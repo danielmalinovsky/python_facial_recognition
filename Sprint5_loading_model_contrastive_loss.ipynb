{
 "cells": [
  {
   "cell_type": "code",
   "execution_count": 21,
   "metadata": {},
   "outputs": [],
   "source": [
    "from tensorflow.keras.models import Model\n",
    "from tensorflow.keras.layers import Input, Flatten\n",
    "from tensorflow.keras.layers import Conv2D\n",
    "from tensorflow.keras.layers import Dense\n",
    "from tensorflow.keras.layers import Dropout\n",
    "from tensorflow.keras.layers import GlobalAveragePooling2D\n",
    "from tensorflow.keras.layers import MaxPooling2D\n",
    "\n",
    "import tensorflow.keras.backend as K\n",
    "import tensorflow as tf\n",
    "\n",
    "import cv2\n",
    "from matplotlib import pyplot as plt\n",
    "import pandas as pd\n",
    "import numpy as np\n",
    "from sklearn.model_selection import train_test_split\n",
    "import random\n",
    "import os\n",
    "import tensorflow as tf\n",
    "import keras as keras\n",
    "from PIL import Image\n",
    "import warnings\n",
    "warnings.filterwarnings('ignore')\n",
    "import src.proprietary_functions as src\n",
    "\n",
    "from tensorflow.keras.models import Model\n",
    "from tensorflow.keras.layers import Dense\n",
    "from tensorflow.keras.layers import Input\n",
    "from tensorflow.keras.layers import Lambda\n",
    "from tensorflow.keras.datasets import mnist"
   ]
  },
  {
   "cell_type": "code",
   "execution_count": 22,
   "metadata": {},
   "outputs": [],
   "source": [
    "#dictionary for storing the numpy objects of pairs of images, lables and pairs of images names\n",
    "arr_dict_X_Y_names = {}"
   ]
  },
  {
   "cell_type": "code",
   "execution_count": 23,
   "metadata": {},
   "outputs": [],
   "source": [
    "for sample in ['train','valid','test']:\n",
    "    with open(f'./cropped_numpys/cropped_{sample}_X.npy', 'rb') as f:\n",
    "         arr_dict_X_Y_names[f'arr_{sample}_X'] = np.load(f)\n",
    "\n",
    "\n",
    "arr_train_X = arr_dict_X_Y_names['arr_train_X']\n",
    "arr_valid_X = arr_dict_X_Y_names['arr_valid_X']\n",
    "arr_test_X = arr_dict_X_Y_names['arr_test_X']"
   ]
  },
  {
   "cell_type": "code",
   "execution_count": 24,
   "metadata": {},
   "outputs": [],
   "source": [
    "for sample in ['train','valid','test']:\n",
    "    with open(f'./cropped_numpys/cropped_{sample}_X_names.npy', 'rb') as f:\n",
    "        arr_dict_X_Y_names[f'{sample}_X_names'] = np.load(f)\n",
    "\n",
    "train_X_names = arr_dict_X_Y_names['train_X_names']\n",
    "valid_X_names = arr_dict_X_Y_names['valid_X_names']\n",
    "test_X_names = arr_dict_X_Y_names['test_X_names']"
   ]
  },
  {
   "cell_type": "code",
   "execution_count": 25,
   "metadata": {},
   "outputs": [],
   "source": [
    "for sample in ['train','valid','test']:\n",
    "    with open(f'./cropped_numpys/cropped_{sample}_Y.npy', 'rb') as f:\n",
    "        arr_dict_X_Y_names[f'arr_{sample}_Y'] = np.load(f)\n",
    "\n",
    "arr_train_Y = arr_dict_X_Y_names['arr_train_Y']\n",
    "arr_valid_Y = arr_dict_X_Y_names['arr_valid_Y']\n",
    "arr_test_Y = arr_dict_X_Y_names['arr_test_Y']"
   ]
  },
  {
   "cell_type": "code",
   "execution_count": 26,
   "metadata": {},
   "outputs": [],
   "source": [
    "#function creating pairs\n",
    "def\tmake_pairs(images, labels, image_names):\n",
    "\n",
    "\tpairImages = []\n",
    "\tpairLabels = []\n",
    "\tpairImagesNames = []\n",
    "\tuniqueClasses = np.unique(labels)\n",
    "\n",
    "\tdict_idx = {i:np.where(labels == i)[0] for i in uniqueClasses}\n",
    "\n",
    "\tfor idxA in range(len(images)):\n",
    "\t\tcurrentImage = images[idxA]\n",
    "\t\tlabel = labels[idxA]\n",
    "\t\tcurrentImage_name = image_names[idxA]\n",
    "\n",
    "\t\t#positive pair\n",
    "\t\tidxB = np.random.choice(dict_idx[label])\n",
    "\t\tposImage = images[idxB]\n",
    "\t\tposImage_name = image_names[idxB]\n",
    "\t\tpairImages.append([currentImage, posImage])\n",
    "\t\tpairImagesNames.append([currentImage_name, posImage_name])\n",
    "\t\tpairLabels.append([1])\n",
    "\n",
    "\t\t#negative pair\n",
    "\t\tnegLab = np.random.choice([i for i in dict_idx.keys() if i != label])\n",
    "\t\tnegIdx = np.random.choice(dict_idx[negLab])\n",
    "\t\tnegImage = images[negIdx]\n",
    "\t\tnegImage_name = image_names[negIdx]\n",
    "\t\tpairImages.append([currentImage, negImage])\n",
    "\t\tpairImagesNames.append([currentImage_name, negImage_name])\n",
    "\t\tpairLabels.append([0])\n",
    "\n",
    "\treturn (np.array(pairImages),np.array(pairLabels)), np.array(pairImagesNames)"
   ]
  },
  {
   "cell_type": "code",
   "execution_count": 27,
   "metadata": {},
   "outputs": [],
   "source": [
    "(pairTrain, labelTrain), pairNamesTrain = make_pairs(arr_train_X, arr_train_Y, train_X_names)\n",
    "(pairValid, labelValid), pairNamesValid = make_pairs(arr_valid_X, arr_valid_Y, valid_X_names)\n",
    "(pairTest, labelTest), pairNamesTest = make_pairs(arr_test_X, arr_test_Y, test_X_names)"
   ]
  },
  {
   "cell_type": "code",
   "execution_count": 28,
   "metadata": {},
   "outputs": [],
   "source": [
    "import pickle\n",
    "\n",
    "model_file = \"./contrastive_loss_model_.h5\"\n",
    "#model = pickle.load(open(\"./triplets.sav\", \"rb\"))\n",
    "model = keras.models.load_model(model_file, compile=False)\n",
    "\n"
   ]
  },
  {
   "cell_type": "code",
   "execution_count": 29,
   "metadata": {},
   "outputs": [
    {
     "name": "stdout",
     "output_type": "stream",
     "text": [
      "125/125 [==============================] - 56s 430ms/step\n"
     ]
    }
   ],
   "source": [
    "predictions = model.predict([pairTest[:, 0], pairTest[:, 1]])"
   ]
  }
 ],
 "metadata": {
  "kernelspec": {
   "display_name": "vseML",
   "language": "python",
   "name": "python3"
  },
  "language_info": {
   "codemirror_mode": {
    "name": "ipython",
    "version": 3
   },
   "file_extension": ".py",
   "mimetype": "text/x-python",
   "name": "python",
   "nbconvert_exporter": "python",
   "pygments_lexer": "ipython3",
   "version": "3.9.13"
  },
  "orig_nbformat": 4,
  "vscode": {
   "interpreter": {
    "hash": "5b16878dc9fba3fc1f29102bb5a5d5908ed8d93b9d265a120b4075722889fce6"
   }
  }
 },
 "nbformat": 4,
 "nbformat_minor": 2
}
