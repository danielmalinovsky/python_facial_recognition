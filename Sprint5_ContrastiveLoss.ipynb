{
 "cells": [
  {
   "attachments": {},
   "cell_type": "markdown",
   "metadata": {},
   "source": [
    "CONTRASTIVE LOSS"
   ]
  },
  {
   "cell_type": "code",
   "execution_count": 1,
   "metadata": {},
   "outputs": [],
   "source": [
    "from tensorflow.keras.models import Model\n",
    "from tensorflow.keras.layers import Input, Flatten\n",
    "from tensorflow.keras.layers import Conv2D\n",
    "from tensorflow.keras.layers import Dense\n",
    "from tensorflow.keras.layers import Dropout\n",
    "from tensorflow.keras.layers import GlobalAveragePooling2D\n",
    "from tensorflow.keras.layers import MaxPooling2D\n",
    "\n",
    "import tensorflow.keras.backend as K\n",
    "import tensorflow as tf\n",
    "\n",
    "import cv2\n",
    "from matplotlib import pyplot as plt\n",
    "import pandas as pd\n",
    "import numpy as np\n",
    "from sklearn.model_selection import train_test_split\n",
    "import random\n",
    "import os\n",
    "import tensorflow as tf\n",
    "import keras as keras\n",
    "from PIL import Image\n",
    "import warnings\n",
    "warnings.filterwarnings('ignore')\n",
    "import src.proprietary_functions as src\n",
    "\n",
    "from tensorflow.keras.models import Model\n",
    "from tensorflow.keras.layers import Dense\n",
    "from tensorflow.keras.layers import Input\n",
    "from tensorflow.keras.layers import Lambda\n",
    "from tensorflow.keras.datasets import mnist"
   ]
  },
  {
   "cell_type": "code",
   "execution_count": 2,
   "metadata": {},
   "outputs": [],
   "source": [
    "#dictionary for storing the numpy objects of pairs of images, lables and pairs of images names\n",
    "arr_dict_X_Y_names = {}"
   ]
  },
  {
   "cell_type": "code",
   "execution_count": 3,
   "metadata": {},
   "outputs": [],
   "source": [
    "for sample in ['train','valid','test']:\n",
    "    with open(f'./cropped_numpys/cropped_{sample}_X.npy', 'rb') as f:\n",
    "         arr_dict_X_Y_names[f'arr_{sample}_X'] = np.load(f)\n",
    "\n",
    "\n",
    "arr_train_X = arr_dict_X_Y_names['arr_train_X']\n",
    "arr_valid_X = arr_dict_X_Y_names['arr_valid_X']\n",
    "arr_test_X = arr_dict_X_Y_names['arr_test_X']"
   ]
  },
  {
   "cell_type": "code",
   "execution_count": 4,
   "metadata": {},
   "outputs": [],
   "source": [
    "for sample in ['train','valid','test']:\n",
    "    with open(f'./cropped_numpys/cropped_{sample}_X_names.npy', 'rb') as f:\n",
    "        arr_dict_X_Y_names[f'{sample}_X_names'] = np.load(f)\n",
    "\n",
    "train_X_names = arr_dict_X_Y_names['train_X_names']\n",
    "valid_X_names = arr_dict_X_Y_names['valid_X_names']\n",
    "test_X_names = arr_dict_X_Y_names['test_X_names']"
   ]
  },
  {
   "cell_type": "code",
   "execution_count": 5,
   "metadata": {},
   "outputs": [],
   "source": [
    "for sample in ['train','valid','test']:\n",
    "    with open(f'./cropped_numpys/cropped_{sample}_Y.npy', 'rb') as f:\n",
    "        arr_dict_X_Y_names[f'arr_{sample}_Y'] = np.load(f)\n",
    "\n",
    "arr_train_Y = arr_dict_X_Y_names['arr_train_Y']\n",
    "arr_valid_Y = arr_dict_X_Y_names['arr_valid_Y']\n",
    "arr_test_Y = arr_dict_X_Y_names['arr_test_Y']"
   ]
  },
  {
   "cell_type": "code",
   "execution_count": 6,
   "metadata": {},
   "outputs": [],
   "source": [
    "#function creating pairs\n",
    "def\tmake_pairs(images, labels, image_names):\n",
    "\n",
    "\tpairImages = []\n",
    "\tpairLabels = []\n",
    "\tpairImagesNames = []\n",
    "\tuniqueClasses = np.unique(labels)\n",
    "\n",
    "\tdict_idx = {i:np.where(labels == i)[0] for i in uniqueClasses}\n",
    "\n",
    "\tfor idxA in range(len(images)):\n",
    "\t\tcurrentImage = images[idxA]\n",
    "\t\tlabel = labels[idxA]\n",
    "\t\tcurrentImage_name = image_names[idxA]\n",
    "\n",
    "\t\t#positive pair\n",
    "\t\tidxB = np.random.choice(dict_idx[label])\n",
    "\t\tposImage = images[idxB]\n",
    "\t\tposImage_name = image_names[idxB]\n",
    "\t\tpairImages.append([currentImage, posImage])\n",
    "\t\tpairImagesNames.append([currentImage_name, posImage_name])\n",
    "\t\tpairLabels.append([1])\n",
    "\n",
    "\t\t#negative pair\n",
    "\t\tnegLab = np.random.choice([i for i in dict_idx.keys() if i != label])\n",
    "\t\tnegIdx = np.random.choice(dict_idx[negLab])\n",
    "\t\tnegImage = images[negIdx]\n",
    "\t\tnegImage_name = image_names[negIdx]\n",
    "\t\tpairImages.append([currentImage, negImage])\n",
    "\t\tpairImagesNames.append([currentImage_name, negImage_name])\n",
    "\t\tpairLabels.append([0])\n",
    "\n",
    "\treturn (np.array(pairImages),np.array(pairLabels)), np.array(pairImagesNames)"
   ]
  },
  {
   "cell_type": "code",
   "execution_count": 7,
   "metadata": {},
   "outputs": [],
   "source": [
    "(pairTrain, labelTrain), pairNamesTrain = make_pairs(arr_train_X, arr_train_Y, train_X_names)\n",
    "(pairValid, labelValid), pairNamesValid = make_pairs(arr_valid_X, arr_valid_Y, valid_X_names)\n",
    "(pairTest, labelTest), pairNamesTest = make_pairs(arr_test_X, arr_test_Y, test_X_names)"
   ]
  },
  {
   "cell_type": "code",
   "execution_count": 8,
   "metadata": {},
   "outputs": [],
   "source": [
    "dict_pairs = {'train': {'pair_imgs': pairTrain, 'pair_imgs_names':pairNamesTrain,'labels':labelTrain},\n",
    "                'valid': {'pair_imgs': pairValid,'pair_imgs_names':pairNamesValid,'labels':labelValid},\n",
    "                'test': {'pair_imgs': pairTest, 'pair_imgs_names':pairNamesTest,'labels':labelTest}}"
   ]
  },
  {
   "cell_type": "code",
   "execution_count": 9,
   "metadata": {},
   "outputs": [],
   "source": [
    "for sampl in dict_pairs.keys():\n",
    "    for n in dict_pairs[sampl].keys():\n",
    "       with open(f'./pair_numpys/{sampl}_{n}.npy', 'wb') as f:\n",
    "            np.save(f, dict_pairs[sampl][n])"
   ]
  },
  {
   "attachments": {},
   "cell_type": "markdown",
   "metadata": {},
   "source": [
    "NN model building with contrastive loss"
   ]
  },
  {
   "cell_type": "code",
   "execution_count": 10,
   "metadata": {},
   "outputs": [],
   "source": [
    "def euclidean_distance(vectors):\n",
    "\t# unpack the vectors into separate lists\n",
    "\t(featsA, featsB) = vectors\n",
    "    \n",
    "\t# compute the sum of squared distances between the vectors\n",
    "\tsumSquared = K.sum(K.square(featsA - featsB), axis=1,\n",
    "\t\tkeepdims=True)\n",
    "\n",
    "\t# return the euclidean distance between the vectors\n",
    "\treturn K.sqrt(K.maximum(sumSquared, K.epsilon()))"
   ]
  },
  {
   "cell_type": "code",
   "execution_count": 11,
   "metadata": {},
   "outputs": [],
   "source": [
    "imgA = Input(shape=(224, 224, 3))\n",
    "imgB = Input(shape=(224, 224, 3))"
   ]
  },
  {
   "cell_type": "code",
   "execution_count": 12,
   "metadata": {},
   "outputs": [],
   "source": [
    "def build_siamese_model(inputShape, embeddingDim=48):\n",
    "\t# specify the inputs for the feature extractor network\n",
    "\tinputs = Input(inputShape)\n",
    "\n",
    "\t# define the first set of CONV => RELU => POOL => DROPOUT layers\n",
    "\tx = Conv2D(64, (2, 2), padding=\"same\", activation=\"relu\")(inputs)\n",
    "\tx = MaxPooling2D(pool_size=(2, 2))(x)\n",
    "\n",
    "\t# second set of CONV => RELU => POOL => DROPOUT layers\n",
    "\tx = Conv2D(64, (2, 2), padding=\"same\", activation=\"relu\")(x)\n",
    "\tx = MaxPooling2D(pool_size=2)(x)\n",
    "\n",
    "    # prepare the final outputs\n",
    "\tpooledOutput = GlobalAveragePooling2D()(x)\n",
    "\toutputs = Dense(embeddingDim)(pooledOutput)\n",
    "\t\n",
    "\t# build the model\n",
    "\tmodel = Model(inputs, outputs)\n",
    "\t\n",
    "\t# return the model to the calling function\n",
    "\treturn model"
   ]
  },
  {
   "cell_type": "code",
   "execution_count": 13,
   "metadata": {},
   "outputs": [],
   "source": [
    "def contrastive_loss(y, preds, margin=1):\n",
    "\t# explicitly cast the true class label data type to the predicted\n",
    "\t# class label data type (otherwise we run the risk of having two\n",
    "\t# separate data types, causing TensorFlow to error out)\n",
    "\ty = tf.cast(y, preds.dtype)\n",
    "\n",
    "\t# calculate the contrastive loss between the true labels and\n",
    "\t# the predicted labels\n",
    "\tsquaredPreds = K.square(preds)\n",
    "\tsquaredMargin = K.square(K.maximum(margin - preds, 0))\n",
    "\tloss = K.mean(y * squaredPreds + (1 - y) * squaredMargin)\n",
    "\n",
    "\t# return the computed contrastive loss to the calling function\n",
    "\treturn loss"
   ]
  },
  {
   "cell_type": "code",
   "execution_count": 14,
   "metadata": {},
   "outputs": [
    {
     "name": "stderr",
     "output_type": "stream",
     "text": [
      "2022-12-13 02:27:28.325001: I tensorflow/core/platform/cpu_feature_guard.cc:193] This TensorFlow binary is optimized with oneAPI Deep Neural Network Library (oneDNN) to use the following CPU instructions in performance-critical operations:  SSE4.1 SSE4.2\n",
      "To enable them in other operations, rebuild TensorFlow with the appropriate compiler flags.\n"
     ]
    }
   ],
   "source": [
    "featureExtractor = build_siamese_model((224, 224, 3))"
   ]
  },
  {
   "cell_type": "code",
   "execution_count": 15,
   "metadata": {},
   "outputs": [],
   "source": [
    "featsA = featureExtractor(imgA)\n",
    "featsB = featureExtractor(imgB)"
   ]
  },
  {
   "cell_type": "code",
   "execution_count": 16,
   "metadata": {},
   "outputs": [],
   "source": [
    "distance = Lambda(euclidean_distance)([featsA, featsB])"
   ]
  },
  {
   "cell_type": "code",
   "execution_count": 17,
   "metadata": {},
   "outputs": [],
   "source": [
    "model = Model(inputs=[imgA, imgB], outputs=distance)"
   ]
  },
  {
   "cell_type": "code",
   "execution_count": 18,
   "metadata": {},
   "outputs": [],
   "source": [
    "model.compile(loss=contrastive_loss, optimizer=\"adam\", metrics=[\"accuracy\"])"
   ]
  },
  {
   "cell_type": "code",
   "execution_count": 19,
   "metadata": {},
   "outputs": [
    {
     "name": "stdout",
     "output_type": "stream",
     "text": [
      "Epoch 1/10\n",
      "375/375 [==============================] - 30150s 81s/step - loss: 4.2825 - accuracy: 0.3964 - val_loss: 0.1958 - val_accuracy: 0.3383\n",
      "Epoch 2/10\n",
      "375/375 [==============================] - 1953s 5s/step - loss: 0.2274 - accuracy: 0.3831 - val_loss: 0.1946 - val_accuracy: 0.3340\n",
      "Epoch 3/10\n",
      "375/375 [==============================] - 863s 2s/step - loss: 0.2285 - accuracy: 0.3747 - val_loss: 0.1925 - val_accuracy: 0.3290\n",
      "Epoch 4/10\n",
      "375/375 [==============================] - 892s 2s/step - loss: 0.2232 - accuracy: 0.3728 - val_loss: 0.1856 - val_accuracy: 0.3120\n",
      "Epoch 5/10\n",
      "375/375 [==============================] - 888s 2s/step - loss: 0.2205 - accuracy: 0.3694 - val_loss: 0.1840 - val_accuracy: 0.3090\n",
      "Epoch 6/10\n",
      "375/375 [==============================] - 875s 2s/step - loss: 0.2190 - accuracy: 0.3707 - val_loss: 0.1856 - val_accuracy: 0.3262\n",
      "Epoch 7/10\n",
      "375/375 [==============================] - 891s 2s/step - loss: 0.2171 - accuracy: 0.3618 - val_loss: 0.1750 - val_accuracy: 0.2652\n",
      "Epoch 8/10\n",
      "375/375 [==============================] - 884s 2s/step - loss: 0.2220 - accuracy: 0.3647 - val_loss: 0.1861 - val_accuracy: 0.3165\n",
      "Epoch 9/10\n",
      "375/375 [==============================] - 905s 2s/step - loss: 0.2231 - accuracy: 0.3736 - val_loss: 0.1779 - val_accuracy: 0.2940\n",
      "Epoch 10/10\n",
      "375/375 [==============================] - 850s 2s/step - loss: 0.2168 - accuracy: 0.3653 - val_loss: 0.1892 - val_accuracy: 0.3340\n"
     ]
    }
   ],
   "source": [
    "history = model.fit(\n",
    "\t[pairTrain[:, 0], pairTrain[:, 1]], labelTrain[:],\n",
    "\tvalidation_data=([pairValid[:, 0], pairValid[:, 1]], labelValid[:]),\n",
    "\tepochs=10)\n",
    "\t#epochs = 1)"
   ]
  },
  {
   "cell_type": "code",
   "execution_count": 27,
   "metadata": {},
   "outputs": [],
   "source": [
    "import pickle\n",
    "\n",
    "model_file = \"./contrastive_loss.h5\"\n",
    "#pickle.dump(model, open(model_file, 'wb'))"
   ]
  },
  {
   "cell_type": "code",
   "execution_count": 28,
   "metadata": {},
   "outputs": [],
   "source": [
    "model.save(model_file, save_format=\"h5\")\n"
   ]
  },
  {
   "cell_type": "code",
   "execution_count": 20,
   "metadata": {},
   "outputs": [],
   "source": [
    "def plot_training(H):\n",
    "\t# construct a plot that plots and saves the training history\n",
    "\tplt.style.use(\"ggplot\")\n",
    "\tplt.figure()\n",
    "\n",
    "\tplt.plot(H.history[\"accuracy\"], label=\"train_acc\")\n",
    "\tplt.plot(H.history[\"val_accuracy\"], label=\"val_acc\")\n",
    "\tplt.title(\"Training Accuracy\")\n",
    "\tplt.xlabel(\"Epoch #\")\n",
    "\tplt.ylabel(\"Accuracy\")\n",
    "\tplt.legend()\n",
    "\tplt.show()\n",
    "\n",
    "\n",
    "\tplt.plot(H.history[\"loss\"], label=\"train_loss\")\n",
    "\tplt.plot(H.history[\"val_loss\"], label=\"val_loss\")\n",
    "\tplt.title(\"Training Loss\")\n",
    "\tplt.xlabel(\"Epoch #\")\n",
    "\tplt.ylabel(\"Loss\")\n",
    "\tplt.legend()\n",
    "\tplt.show()"
   ]
  },
  {
   "cell_type": "code",
   "execution_count": 21,
   "metadata": {},
   "outputs": [
    {
     "data": {
      "image/png": "[encoded data removed]",
      "text/plain": [
       "<Figure size 640x480 with 1 Axes>"
      ]
     },
     "metadata": {},
     "output_type": "display_data"
    },
    {
     "data": {
      "image/png": "[encoded data removed]",
      "text/plain": [
       "<Figure size 640x480 with 1 Axes>"
      ]
     },
     "metadata": {},
     "output_type": "display_data"
    }
   ],
   "source": [
    "plot_training(history)"
   ]
  },
  {
   "attachments": {},
   "cell_type": "markdown",
   "metadata": {},
   "source": [
    "Predictions"
   ]
  },
  {
   "cell_type": "code",
   "execution_count": 22,
   "metadata": {},
   "outputs": [
    {
     "name": "stdout",
     "output_type": "stream",
     "text": [
      "125/125 [==============================] - 63s 502ms/step\n"
     ]
    }
   ],
   "source": [
    "predictions = model.predict([pairTest[:, 0], pairTest[:, 1]])"
   ]
  },
  {
   "cell_type": "code",
   "execution_count": 23,
   "metadata": {},
   "outputs": [
    {
     "name": "stdout",
     "output_type": "stream",
     "text": [
      "125/125 [==============================] - 64s 505ms/step - loss: 0.1799 - accuracy: 0.3115\n"
     ]
    }
   ],
   "source": [
    "res = model.evaluate([pairTest[:, 0], pairTest[:, 1]], labelTest[:])"
   ]
  },
  {
   "cell_type": "code",
   "execution_count": 24,
   "metadata": {},
   "outputs": [
    {
     "name": "stdout",
     "output_type": "stream",
     "text": [
      "accuracy:\n"
     ]
    },
    {
     "data": {
      "text/plain": [
       "0.31150001287460327"
      ]
     },
     "execution_count": 24,
     "metadata": {},
     "output_type": "execute_result"
    }
   ],
   "source": [
    "print('accuracy:')\n",
    "res[1]"
   ]
  },
  {
   "cell_type": "markdown",
   "metadata": {},
   "source": []
  }
 ],
 "metadata": {
  "kernelspec": {
   "display_name": "Python 3.9.13 ('vseML')",
   "language": "python",
   "name": "python3"
  },
  "language_info": {
   "codemirror_mode": {
    "name": "ipython",
    "version": 3
   },
   "file_extension": ".py",
   "mimetype": "text/x-python",
   "name": "python",
   "nbconvert_exporter": "python",
   "pygments_lexer": "ipython3",
   "version": "3.9.13"
  },
  "orig_nbformat": 4,
  "vscode": {
   "interpreter": {
    "hash": "5b16878dc9fba3fc1f29102bb5a5d5908ed8d93b9d265a120b4075722889fce6"
   }
  }
 },
 "nbformat": 4,
 "nbformat_minor": 2
}
