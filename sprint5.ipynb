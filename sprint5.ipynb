{
 "cells": [
  {
   "cell_type": "code",
   "execution_count": 33,
   "metadata": {},
   "outputs": [],
   "source": [
    "from tensorflow.keras.models import Model\n",
    "from tensorflow.keras.layers import Input, Flatten\n",
    "from tensorflow.keras.layers import Conv2D\n",
    "from tensorflow.keras.layers import Dense\n",
    "from tensorflow.keras.layers import Dropout\n",
    "from tensorflow.keras.layers import GlobalAveragePooling2D\n",
    "from tensorflow.keras.layers import MaxPooling2D\n",
    "\n",
    "import tensorflow.keras.backend as K\n",
    "import tensorflow as tf\n",
    "\n",
    "import cv2\n",
    "from matplotlib import pyplot as plt\n",
    "import pandas as pd\n",
    "import numpy as np\n",
    "from sklearn.model_selection import train_test_split\n",
    "import random\n",
    "import os\n",
    "import tensorflow as tf\n",
    "import keras as keras\n",
    "from PIL import Image\n",
    "import warnings\n",
    "warnings.filterwarnings('ignore')\n",
    "import src.proprietary_functions as src"
   ]
  },
  {
   "cell_type": "code",
   "execution_count": 34,
   "metadata": {},
   "outputs": [],
   "source": [
    "import os\n",
    "#os.chdir(r'C:\\Users\\ngnpe\\OneDrive\\Desktop\\python_facial_recognition')"
   ]
  },
  {
   "cell_type": "code",
   "execution_count": 35,
   "metadata": {},
   "outputs": [],
   "source": [
    "image_file = './sample_data/Img/'\n",
    "annotation_file = './sample_data/Anno/'\n",
    "export_file = './export'\n",
    "\n",
    "identity_file = annotation_file + 'identity_CelebA.txt'\n",
    "bbox_file = annotation_file + 'list_bbox_celeba.txt'\n",
    "\n",
    "# Train/test split variables\n",
    "random_seed = 123\n",
    "test_size = 0.2\n",
    "validation_size = 0.2\n",
    "\n",
    "\n",
    "image_id_col = 'image_id'\n",
    "bbox_col_names = {\n",
    "    'x_start' : 'x_1',\n",
    "    'y_start' : 'y_1',\n",
    "    'width' : 'width',\n",
    "    'height' : 'height',\n",
    "    'x_end' : '',\n",
    "    'y_end' : ''}\n",
    "\n",
    "identity_file = annotation_file + 'identity_CelebA.txt'\n",
    "bbox_file = annotation_file + 'list_bbox_celeba.txt'\n",
    "\n",
    "\n",
    "\n",
    "# Loading dataset metadata\n",
    "identity = pd.read_csv(identity_file, sep=\" \", header = None,names=['image', 'image_id'])\n",
    "bbox = pd.read_csv(bbox_file, delim_whitespace=True)\n",
    "\n",
    "\n",
    "#%% Filtering faces that appear at least 20 times\n",
    "labels_annot = pd.DataFrame(identity.image_id.value_counts(ascending=True)).query('image_id > 20').index.tolist()\n",
    "identity_filtered = identity[identity['image_id'].isin(labels_annot)]\n",
    "\n",
    "#%% [SPRINT 2] Train/test split of the annotations\n",
    "imgs = identity_filtered['image']\n",
    "labels = identity_filtered['image_id']\n",
    "\n",
    "temp_imgs, test_imgs, _, test_labels = train_test_split(imgs, labels,\n",
    "                                               test_size = test_size,\n",
    "                                               random_state = random_seed,        \n",
    "                                               stratify = labels)\n",
    "train_imgs, valid_imgs, train_labels, valid_labels = train_test_split(temp_imgs, _,\n",
    "                                               test_size = validation_size/(1-test_size),\n",
    "                                               random_state = random_seed,        \n",
    "                                               stratify = _)\n",
    "\n",
    "#%% \n",
    "# Safe train/test split\n",
    "\n",
    "if not os.path.exists(export_file):\n",
    "    os.makedirs(export_file)\n",
    "\n",
    "if not os.path.exists(export_file + '/setting'):\n",
    "    os.makedirs(export_file + '/setting')\n",
    "\n",
    "if export_file != '':\n",
    "    train_imgs.to_csv(export_file + '/setting/train_imgs.csv', index = False)\n",
    "    valid_imgs.to_csv(export_file + '/setting/valid_imgs.csv', index = False)\n",
    "    test_imgs.to_csv(export_file + '/setting/test_imgs.csv', index = False)"
   ]
  },
  {
   "attachments": {},
   "cell_type": "markdown",
   "metadata": {},
   "source": [
    "<h1><b>CONTRASTIVE LOSS MODEL<h1>"
   ]
  },
  {
   "cell_type": "code",
   "execution_count": 36,
   "metadata": {},
   "outputs": [],
   "source": [
    "#Filtering training set - both images and labels as data frame.\n",
    "training_set = identity_filtered[identity_filtered['image'].isin(train_imgs)]"
   ]
  },
  {
   "cell_type": "code",
   "execution_count": 37,
   "metadata": {},
   "outputs": [
    {
     "data": {
      "text/plain": [
       "18025"
      ]
     },
     "execution_count": 37,
     "metadata": {},
     "output_type": "execute_result"
    }
   ],
   "source": [
    "#Extracting 100 labels having the most pictures - we gonna use only part of the training set.\n",
    "labs = list(train_labels.value_counts().head(1000).index)\n",
    "train_labels.value_counts().head(1000).sum()"
   ]
  },
  {
   "cell_type": "code",
   "execution_count": 38,
   "metadata": {},
   "outputs": [],
   "source": [
    "#extracting randomly 6 pictures per each label.\n",
    "random.seed(12496)\n",
    "pics = {i:[random.choices(list(training_set.loc[training_set['image_id'] == i,'image']), k = 10)] for i in labs}"
   ]
  },
  {
   "cell_type": "code",
   "execution_count": 39,
   "metadata": {},
   "outputs": [
    {
     "data": {
      "text/html": [
       "<div>\n",
       "<style scoped>\n",
       "    .dataframe tbody tr th:only-of-type {\n",
       "        vertical-align: middle;\n",
       "    }\n",
       "\n",
       "    .dataframe tbody tr th {\n",
       "        vertical-align: top;\n",
       "    }\n",
       "\n",
       "    .dataframe thead th {\n",
       "        text-align: right;\n",
       "    }\n",
       "</style>\n",
       "<table border=\"1\" class=\"dataframe\">\n",
       "  <thead>\n",
       "    <tr style=\"text-align: right;\">\n",
       "      <th></th>\n",
       "      <th>label</th>\n",
       "      <th>image</th>\n",
       "    </tr>\n",
       "  </thead>\n",
       "  <tbody>\n",
       "    <tr>\n",
       "      <th>0</th>\n",
       "      <td>2820</td>\n",
       "      <td>001553.jpg</td>\n",
       "    </tr>\n",
       "    <tr>\n",
       "      <th>1</th>\n",
       "      <td>2820</td>\n",
       "      <td>003568.jpg</td>\n",
       "    </tr>\n",
       "    <tr>\n",
       "      <th>2</th>\n",
       "      <td>2820</td>\n",
       "      <td>008286.jpg</td>\n",
       "    </tr>\n",
       "    <tr>\n",
       "      <th>3</th>\n",
       "      <td>2820</td>\n",
       "      <td>034769.jpg</td>\n",
       "    </tr>\n",
       "    <tr>\n",
       "      <th>4</th>\n",
       "      <td>2820</td>\n",
       "      <td>043941.jpg</td>\n",
       "    </tr>\n",
       "    <tr>\n",
       "      <th>...</th>\n",
       "      <td>...</td>\n",
       "      <td>...</td>\n",
       "    </tr>\n",
       "    <tr>\n",
       "      <th>9995</th>\n",
       "      <td>7233</td>\n",
       "      <td>009730.jpg</td>\n",
       "    </tr>\n",
       "    <tr>\n",
       "      <th>9996</th>\n",
       "      <td>7233</td>\n",
       "      <td>093995.jpg</td>\n",
       "    </tr>\n",
       "    <tr>\n",
       "      <th>9997</th>\n",
       "      <td>7233</td>\n",
       "      <td>118662.jpg</td>\n",
       "    </tr>\n",
       "    <tr>\n",
       "      <th>9998</th>\n",
       "      <td>7233</td>\n",
       "      <td>019452.jpg</td>\n",
       "    </tr>\n",
       "    <tr>\n",
       "      <th>9999</th>\n",
       "      <td>7233</td>\n",
       "      <td>155608.jpg</td>\n",
       "    </tr>\n",
       "  </tbody>\n",
       "</table>\n",
       "<p>10000 rows × 2 columns</p>\n",
       "</div>"
      ],
      "text/plain": [
       "      label       image\n",
       "0      2820  001553.jpg\n",
       "1      2820  003568.jpg\n",
       "2      2820  008286.jpg\n",
       "3      2820  034769.jpg\n",
       "4      2820  043941.jpg\n",
       "...     ...         ...\n",
       "9995   7233  009730.jpg\n",
       "9996   7233  093995.jpg\n",
       "9997   7233  118662.jpg\n",
       "9998   7233  019452.jpg\n",
       "9999   7233  155608.jpg\n",
       "\n",
       "[10000 rows x 2 columns]"
      ]
     },
     "execution_count": 39,
     "metadata": {},
     "output_type": "execute_result"
    }
   ],
   "source": [
    "#combining both filtered pictures and labels into a data frame.\n",
    "subset_df = pd.DataFrame(pics).transpose()\n",
    "subset_df.index = labs\n",
    "subset_df.columns = ['pics']\n",
    "subset_df[[f'pic_{i}' for i  in range(1,11)]] = pd.DataFrame(subset_df.pics.tolist(), index= subset_df.index)\n",
    "subset_df = subset_df.drop('pics',axis = 1)\n",
    "subset_df = subset_df.stack().reset_index().drop('level_1', axis=1).rename(columns = {'level_0':'label', 0: 'image'})\n",
    "subset_df"
   ]
  },
  {
   "cell_type": "code",
   "execution_count": 40,
   "metadata": {},
   "outputs": [],
   "source": [
    "#Extracting the filtered labels and pictures.\n",
    "imgs_pn, labels_pn = subset_df['image'], subset_df['label']"
   ]
  },
  {
   "cell_type": "code",
   "execution_count": 41,
   "metadata": {},
   "outputs": [],
   "source": [
    "#From the filtered subset of training set, we split this subset into training, validation and test set.\n",
    "temp_X, test_X, temp_Y, test_Y = train_test_split(imgs_pn, labels_pn,\n",
    "                    test_size = 0.2,random_state = random_seed, stratify = labels_pn)\n",
    "\n",
    "train_X, valid_X, train_Y, valid_Y = train_test_split(temp_X, temp_Y,\n",
    "                    test_size = 0.25,random_state = random_seed, stratify = temp_Y)"
   ]
  },
  {
   "cell_type": "code",
   "execution_count": 42,
   "metadata": {},
   "outputs": [],
   "source": [
    "#Creating paths for saving cropped images from the filtered subsets.\n",
    "if not os.path.exists('./cropped/train/'):\n",
    "    os.makedirs('./cropped/train/')\n",
    "\n",
    "if not os.path.exists('./cropped/valid/'):\n",
    "    os.makedirs('./cropped/valid/')\n",
    "\n",
    "if not os.path.exists('./cropped/test/'):\n",
    "    os.makedirs('./cropped/test/')"
   ]
  },
  {
   "cell_type": "code",
   "execution_count": 31,
   "metadata": {},
   "outputs": [],
   "source": [
    "#function for cropping the images, returns list of cropped images as matrices and the list of picture names which havent been cropped\n",
    "def cropping(imagess, set):\n",
    "    print(f'number of pictures before cropping: {len(imagess)}')\n",
    "    crops = []\n",
    "    not_cropped = []\n",
    "    bbox_generated = pd.DataFrame(columns= ['image_id', 'x_1', 'y_1', 'width', 'height', 'x_end', 'y_end'])\n",
    "    for image in imagess:\n",
    "\n",
    "        bbox_coordinates = src.bbox_engine_img_input(image, './data/Img/img_celeba/')\n",
    "    \n",
    "        if bbox_coordinates != None:\n",
    "            bbox_coordinates['image_id'] = image\n",
    "            bbox_generated = bbox_generated.append(bbox_coordinates, ignore_index = True)\n",
    "            startX = bbox_generated[bbox_generated['image_id'] == image][bbox_col_names['x_start']].values[0]\n",
    "            startY = bbox_generated[bbox_generated['image_id'] == image][bbox_col_names['y_start']].values[0]\n",
    "            endX = startX + bbox_generated[bbox_generated['image_id'] == image][bbox_col_names['width']].values[0]\n",
    "            endY = startY + bbox_generated[bbox_generated['image_id'] == image][bbox_col_names['height']].values[0]\n",
    "            img =  cv2.imread('./data/Img/img_celeba/' + image)\n",
    "            crop_img = cv2.resize(img[startY:endY, startX:endX], (224, 224))\n",
    "            crops.append(crop_img)\n",
    "            cv2.imwrite(f'./dta/{set.lower()}/{image}', crop_img)\n",
    "\n",
    "        else:\n",
    "            print(image,'... no bounding boxes detected')\n",
    "            not_cropped.append(image)\n",
    "    print(f'number of cropped pictures: {len(crops)}')\n",
    "    print(f'number of unsucessfully cropped pictures: {len(not_cropped)}')\n",
    "\n",
    "    return crops, not_cropped"
   ]
  },
  {
   "cell_type": "code",
   "execution_count": 43,
   "metadata": {},
   "outputs": [
    {
     "name": "stdout",
     "output_type": "stream",
     "text": [
      "number of pictures before cropping: 6000\n"
     ]
    },
    {
     "ename": "KeyboardInterrupt",
     "evalue": "",
     "output_type": "error",
     "traceback": [
      "\u001b[1;31m---------------------------------------------------------------------------\u001b[0m",
      "\u001b[1;31mKeyboardInterrupt\u001b[0m                         Traceback (most recent call last)",
      "\u001b[1;32mc:\\Users\\ngnpe\\OneDrive\\Desktop\\python_facial_recognition\\sprint5.ipynb Cell 13\u001b[0m in \u001b[0;36m<cell line: 1>\u001b[1;34m()\u001b[0m\n\u001b[1;32m----> <a href='vscode-notebook-cell:/c%3A/Users/ngnpe/OneDrive/Desktop/python_facial_recognition/sprint5.ipynb#X14sZmlsZQ%3D%3D?line=0'>1</a>\u001b[0m cropped_train_X, drop_train_X \u001b[39m=\u001b[39m cropping(train_X, \u001b[39m'\u001b[39;49m\u001b[39mtrain\u001b[39;49m\u001b[39m'\u001b[39;49m)\n",
      "\u001b[1;32mc:\\Users\\ngnpe\\OneDrive\\Desktop\\python_facial_recognition\\sprint5.ipynb Cell 13\u001b[0m in \u001b[0;36mcropping\u001b[1;34m(imagess, set)\u001b[0m\n\u001b[0;32m      <a href='vscode-notebook-cell:/c%3A/Users/ngnpe/OneDrive/Desktop/python_facial_recognition/sprint5.ipynb#X14sZmlsZQ%3D%3D?line=5'>6</a>\u001b[0m bbox_generated \u001b[39m=\u001b[39m pd\u001b[39m.\u001b[39mDataFrame(columns\u001b[39m=\u001b[39m [\u001b[39m'\u001b[39m\u001b[39mimage_id\u001b[39m\u001b[39m'\u001b[39m, \u001b[39m'\u001b[39m\u001b[39mx_1\u001b[39m\u001b[39m'\u001b[39m, \u001b[39m'\u001b[39m\u001b[39my_1\u001b[39m\u001b[39m'\u001b[39m, \u001b[39m'\u001b[39m\u001b[39mwidth\u001b[39m\u001b[39m'\u001b[39m, \u001b[39m'\u001b[39m\u001b[39mheight\u001b[39m\u001b[39m'\u001b[39m, \u001b[39m'\u001b[39m\u001b[39mx_end\u001b[39m\u001b[39m'\u001b[39m, \u001b[39m'\u001b[39m\u001b[39my_end\u001b[39m\u001b[39m'\u001b[39m])\n\u001b[0;32m      <a href='vscode-notebook-cell:/c%3A/Users/ngnpe/OneDrive/Desktop/python_facial_recognition/sprint5.ipynb#X14sZmlsZQ%3D%3D?line=6'>7</a>\u001b[0m \u001b[39mfor\u001b[39;00m image \u001b[39min\u001b[39;00m imagess:\n\u001b[1;32m----> <a href='vscode-notebook-cell:/c%3A/Users/ngnpe/OneDrive/Desktop/python_facial_recognition/sprint5.ipynb#X14sZmlsZQ%3D%3D?line=8'>9</a>\u001b[0m     bbox_coordinates \u001b[39m=\u001b[39m src\u001b[39m.\u001b[39;49mbbox_engine_img_input(image, \u001b[39m'\u001b[39;49m\u001b[39m./data/Img/img_celeba/\u001b[39;49m\u001b[39m'\u001b[39;49m)\n\u001b[0;32m     <a href='vscode-notebook-cell:/c%3A/Users/ngnpe/OneDrive/Desktop/python_facial_recognition/sprint5.ipynb#X14sZmlsZQ%3D%3D?line=10'>11</a>\u001b[0m     \u001b[39mif\u001b[39;00m bbox_coordinates \u001b[39m!=\u001b[39m \u001b[39mNone\u001b[39;00m:\n\u001b[0;32m     <a href='vscode-notebook-cell:/c%3A/Users/ngnpe/OneDrive/Desktop/python_facial_recognition/sprint5.ipynb#X14sZmlsZQ%3D%3D?line=11'>12</a>\u001b[0m         bbox_coordinates[\u001b[39m'\u001b[39m\u001b[39mimage_id\u001b[39m\u001b[39m'\u001b[39m] \u001b[39m=\u001b[39m image\n",
      "File \u001b[1;32mc:\\Users\\ngnpe\\OneDrive\\Desktop\\python_facial_recognition\\src\\proprietary_functions.py:75\u001b[0m, in \u001b[0;36mbbox_engine_img_input\u001b[1;34m(pic, image_path, m1_scale_factor, m1_min_neighbors)\u001b[0m\n\u001b[0;32m     73\u001b[0m \u001b[39mdef\u001b[39;00m \u001b[39mbbox_engine_img_input\u001b[39m(pic,image_path, m1_scale_factor \u001b[39m=\u001b[39m \u001b[39m1.1\u001b[39m, m1_min_neighbors \u001b[39m=\u001b[39m \u001b[39m13\u001b[39m):\n\u001b[0;32m     74\u001b[0m     img \u001b[39m=\u001b[39m cv2\u001b[39m.\u001b[39mimread(image_path\u001b[39m+\u001b[39mpic)\n\u001b[1;32m---> 75\u001b[0m     face_cascade \u001b[39m=\u001b[39m cv2\u001b[39m.\u001b[39;49mCascadeClassifier(\u001b[39m'\u001b[39;49m\u001b[39mhaarcascade_frontalface_default.xml\u001b[39;49m\u001b[39m'\u001b[39;49m)\n\u001b[0;32m     76\u001b[0m     faces \u001b[39m=\u001b[39m face_cascade\u001b[39m.\u001b[39mdetectMultiScale(image \u001b[39m=\u001b[39m img, scaleFactor \u001b[39m=\u001b[39m m1_scale_factor, minNeighbors \u001b[39m=\u001b[39m m1_min_neighbors)\n\u001b[0;32m     78\u001b[0m     \u001b[39m#New feature of the function - iteration over the neighbors parameter in case of empty bounding boxes.\u001b[39;00m\n\u001b[0;32m     79\u001b[0m     \u001b[39m#Perhaps, we could also perform a hyperparameter tuning in order to choose an optimal number of neighbors which has the lowest validation error.\u001b[39;00m\n",
      "\u001b[1;31mKeyboardInterrupt\u001b[0m: "
     ]
    }
   ],
   "source": [
    "cropped_train_X, drop_train_X = cropping(train_X, 'train')"
   ]
  },
  {
   "cell_type": "code",
   "execution_count": 44,
   "metadata": {},
   "outputs": [
    {
     "name": "stdout",
     "output_type": "stream",
     "text": [
      "number of pictures before cropping: 2000\n"
     ]
    }
   ],
   "source": [
    "cropped_valid_X, drop_valid_X = cropping(valid_X, 'valid')"
   ]
  },
  {
   "cell_type": "code",
   "execution_count": null,
   "metadata": {},
   "outputs": [
    {
     "name": "stdout",
     "output_type": "stream",
     "text": [
      "number of pictures before cropping: 120\n",
      "number of cropped pictures: 120\n",
      "number of unsucessfully cropped pictures: 0\n"
     ]
    }
   ],
   "source": [
    "cropped_test_X, drop_test_X = cropping(test_X, 'test')"
   ]
  },
  {
   "cell_type": "code",
   "execution_count": null,
   "metadata": {},
   "outputs": [],
   "source": [
    "#dropping images which havent been cropped\n",
    "def dropping(X_df, Y_df, drop_imgs):\n",
    "    final_X = X_df[~X_df.isin(drop_imgs)]\n",
    "    final_Y = Y_df[~Y_df.index.isin([i for i in Y_df.index if i not in final_X.index])]\n",
    "    return final_X, final_Y"
   ]
  },
  {
   "cell_type": "code",
   "execution_count": null,
   "metadata": {},
   "outputs": [],
   "source": [
    "#picture names after applying the filter with non-cropped pictures\n",
    "final_train_X, final_train_Y = dropping(train_X,train_Y, drop_train_X)\n",
    "final_valid_X, final_valid_Y = dropping(test_X, test_Y, drop_test_X)\n",
    "final_test_X, final_test_Y = dropping(test_X, test_Y, drop_test_X)"
   ]
  },
  {
   "cell_type": "code",
   "execution_count": null,
   "metadata": {},
   "outputs": [],
   "source": [
    "from tensorflow.keras.models import Model\n",
    "from tensorflow.keras.layers import Dense\n",
    "from tensorflow.keras.layers import Input\n",
    "from tensorflow.keras.layers import Lambda\n",
    "from tensorflow.keras.datasets import mnist"
   ]
  },
  {
   "cell_type": "code",
   "execution_count": 53,
   "metadata": {},
   "outputs": [],
   "source": [
    "#converting list of images into arrays\n",
    "arr_train_X = np.array(cropped_train_X)\n",
    "arr_valid_X = np.array(cropped_valid_X)\n",
    "arr_test_X = np.array(cropped_test_X)"
   ]
  },
  {
   "cell_type": "code",
   "execution_count": 54,
   "metadata": {},
   "outputs": [],
   "source": [
    "# add a channel dimension to the images\n",
    "trainX = np.expand_dims(arr_train_X, axis=-1)\n",
    "validX = np.expand_dims(arr_valid_X, axis = -1)\n",
    "testX = np.expand_dims(arr_test_X, axis=-1)"
   ]
  },
  {
   "cell_type": "code",
   "execution_count": 55,
   "metadata": {},
   "outputs": [],
   "source": [
    "#converting list of labels into arrays\n",
    "arr_train_Y = np.array(final_train_Y)\n",
    "arr_valid_Y= np.array(final_valid_Y)\n",
    "arr_test_Y = np.array(final_test_Y)"
   ]
  },
  {
   "cell_type": "code",
   "execution_count": 56,
   "metadata": {},
   "outputs": [],
   "source": [
    "#function creating pairs\n",
    "def\tmake_pairs(images, labels):\n",
    "\n",
    "\tpairImages = []\n",
    "\tpairLabels = []\n",
    "\n",
    "\tuniqueClasses = np.unique(labels)\n",
    "\n",
    "\tdict_idx = {i:np.where(labels == i)[0] for i in uniqueClasses}\n",
    "\n",
    "\tfor idxA in range(len(images)):\n",
    "\t\tcurrentImage = images[idxA]\n",
    "\t\tlabel = labels[idxA]\n",
    "\n",
    "\t\t#positive pair\n",
    "\t\tidxB = np.random.choice(dict_idx[label])\n",
    "\t\tposImage = images[idxB]\n",
    "\t\tpairImages.append([currentImage, posImage])\n",
    "\t\tpairLabels.append([1])\n",
    "\n",
    "\t\t#negative pair\n",
    "\t\tnegLab = np.random.choice([i for i in dict_idx.keys() if i != label])\n",
    "\t\tnegIdx = np.random.choice(dict_idx[negLab])\n",
    "\t\tnegImage = images[negIdx]\n",
    "\t\tpairImages.append([currentImage, negImage])\n",
    "\t\tpairLabels.append([0])\n",
    "\n",
    "\treturn (np.array(pairImages), np.array(pairLabels))"
   ]
  },
  {
   "cell_type": "code",
   "execution_count": 57,
   "metadata": {},
   "outputs": [],
   "source": [
    "(pairTrain, labelTrain) = make_pairs(trainX, arr_train_Y)\n",
    "(pairValid, labelValid) = make_pairs(validX, arr_valid_Y)\n",
    "(pairTest, labelTest) = make_pairs(testX, arr_test_Y)"
   ]
  },
  {
   "cell_type": "code",
   "execution_count": 58,
   "metadata": {},
   "outputs": [],
   "source": [
    "def euclidean_distance(vectors):\n",
    "\t# unpack the vectors into separate lists\n",
    "\t(featsA, featsB) = vectors\n",
    "    \n",
    "\t# compute the sum of squared distances between the vectors\n",
    "\tsumSquared = K.sum(K.square(featsA - featsB), axis=1,\n",
    "\t\tkeepdims=True)\n",
    "\n",
    "\t# return the euclidean distance between the vectors\n",
    "\treturn K.sqrt(K.maximum(sumSquared, K.epsilon()))"
   ]
  },
  {
   "cell_type": "code",
   "execution_count": 59,
   "metadata": {},
   "outputs": [],
   "source": [
    "imgA = Input(shape=(224, 224, 3))\n",
    "imgB = Input(shape=(224, 224, 3))"
   ]
  },
  {
   "cell_type": "code",
   "execution_count": 60,
   "metadata": {},
   "outputs": [],
   "source": [
    "def build_siamese_model(inputShape, embeddingDim=48):\n",
    "\t# specify the inputs for the feature extractor network\n",
    "\tinputs = Input(inputShape)\n",
    "\n",
    "\t# define the first set of CONV => RELU => POOL => DROPOUT layers\n",
    "\tx = Conv2D(64, (2, 2), padding=\"same\", activation=\"relu\")(inputs)\n",
    "\tx = MaxPooling2D(pool_size=(2, 2))(x)\n",
    "\n",
    "\t# second set of CONV => RELU => POOL => DROPOUT layers\n",
    "\tx = Conv2D(64, (2, 2), padding=\"same\", activation=\"relu\")(x)\n",
    "\tx = MaxPooling2D(pool_size=2)(x)\n",
    "\n",
    "    # prepare the final outputs\n",
    "\tpooledOutput = GlobalAveragePooling2D()(x)\n",
    "\toutputs = Dense(embeddingDim)(pooledOutput)\n",
    "\t\n",
    "\t# build the model\n",
    "\tmodel = Model(inputs, outputs)\n",
    "\t\n",
    "\t# return the model to the calling function\n",
    "\treturn model"
   ]
  },
  {
   "cell_type": "code",
   "execution_count": 64,
   "metadata": {},
   "outputs": [],
   "source": [
    "def contrastive_loss(y, preds, margin=1):\n",
    "\t# explicitly cast the true class label data type to the predicted\n",
    "\t# class label data type (otherwise we run the risk of having two\n",
    "\t# separate data types, causing TensorFlow to error out)\n",
    "\ty = tf.cast(y, preds.dtype)\n",
    "\n",
    "\t# calculate the contrastive loss between the true labels and\n",
    "\t# the predicted labels\n",
    "\tsquaredPreds = K.square(preds)\n",
    "\tsquaredMargin = K.square(K.maximum(margin - preds, 0))\n",
    "\tloss = K.mean(y * squaredPreds + (1 - y) * squaredMargin)\n",
    "\n",
    "\t# return the computed contrastive loss to the calling function\n",
    "\treturn loss"
   ]
  },
  {
   "cell_type": "code",
   "execution_count": 61,
   "metadata": {},
   "outputs": [],
   "source": [
    "featureExtractor = build_siamese_model((224, 224, 3))"
   ]
  },
  {
   "cell_type": "code",
   "execution_count": 62,
   "metadata": {},
   "outputs": [],
   "source": [
    "featsA = featureExtractor(imgA)\n",
    "featsB = featureExtractor(imgB)"
   ]
  },
  {
   "cell_type": "code",
   "execution_count": 63,
   "metadata": {},
   "outputs": [],
   "source": [
    "distance = Lambda(euclidean_distance)([featsA, featsB])"
   ]
  },
  {
   "cell_type": "code",
   "execution_count": 65,
   "metadata": {},
   "outputs": [],
   "source": [
    "model = Model(inputs=[imgA, imgB], outputs=distance)"
   ]
  },
  {
   "cell_type": "code",
   "execution_count": 66,
   "metadata": {},
   "outputs": [],
   "source": [
    "model.compile(loss=contrastive_loss, optimizer=\"adam\", metrics=[\"accuracy\"])"
   ]
  },
  {
   "cell_type": "code",
   "execution_count": 67,
   "metadata": {},
   "outputs": [
    {
     "name": "stdout",
     "output_type": "stream",
     "text": [
      "Epoch 1/10\n",
      "30/30 [==============================] - 63s 2s/step - loss: 104.4655 - accuracy: 0.3802 - val_loss: 0.4967 - val_accuracy: 0.0542\n",
      "Epoch 2/10\n",
      "30/30 [==============================] - 59s 2s/step - loss: 0.9011 - accuracy: 0.4000 - val_loss: 0.1593 - val_accuracy: 0.3083\n",
      "Epoch 3/10\n",
      "30/30 [==============================] - 62s 2s/step - loss: 0.2760 - accuracy: 0.4531 - val_loss: 0.1699 - val_accuracy: 0.3333\n",
      "Epoch 4/10\n",
      "30/30 [==============================] - 54s 2s/step - loss: 0.2651 - accuracy: 0.4500 - val_loss: 0.1688 - val_accuracy: 0.3333\n",
      "Epoch 5/10\n",
      "30/30 [==============================] - 57s 2s/step - loss: 0.2603 - accuracy: 0.4437 - val_loss: 0.1615 - val_accuracy: 0.3208\n",
      "Epoch 6/10\n",
      "30/30 [==============================] - 59s 2s/step - loss: 0.2574 - accuracy: 0.4427 - val_loss: 0.1600 - val_accuracy: 0.3208\n",
      "Epoch 7/10\n",
      "30/30 [==============================] - 56s 2s/step - loss: 0.2557 - accuracy: 0.4458 - val_loss: 0.1572 - val_accuracy: 0.3125\n",
      "Epoch 8/10\n",
      "30/30 [==============================] - 54s 2s/step - loss: 0.2537 - accuracy: 0.4375 - val_loss: 0.1530 - val_accuracy: 0.3042\n",
      "Epoch 9/10\n",
      "30/30 [==============================] - 53s 2s/step - loss: 0.2513 - accuracy: 0.4354 - val_loss: 0.1541 - val_accuracy: 0.3125\n",
      "Epoch 10/10\n",
      "30/30 [==============================] - 51s 2s/step - loss: 0.2586 - accuracy: 0.4281 - val_loss: 0.1395 - val_accuracy: 0.2792\n"
     ]
    }
   ],
   "source": [
    "history = model.fit(\n",
    "\t[pairTrain[:, 0], pairTrain[:, 1]], labelTrain[:],\n",
    "\tvalidation_data=([pairValid[:, 0], pairValid[:, 1]], labelValid[:]),\n",
    "\tepochs=10)"
   ]
  },
  {
   "cell_type": "code",
   "execution_count": 72,
   "metadata": {},
   "outputs": [
    {
     "name": "stdout",
     "output_type": "stream",
     "text": [
      "Epoch 1/10\n",
      "30/30 [==============================] - 10s 237ms/step - loss: 2905043.7500 - accuracy: 0.4615 - val_loss: 0.4997 - val_accuracy: 0.5000\n",
      "Epoch 2/10\n",
      "30/30 [==============================] - 6s 205ms/step - loss: 0.4997 - accuracy: 0.5000 - val_loss: 0.4997 - val_accuracy: 0.5000\n",
      "Epoch 3/10\n",
      "30/30 [==============================] - 5s 153ms/step - loss: 0.4997 - accuracy: 0.5000 - val_loss: 0.4997 - val_accuracy: 0.5000\n",
      "Epoch 4/10\n",
      "30/30 [==============================] - 5s 154ms/step - loss: 0.4997 - accuracy: 0.5000 - val_loss: 0.4997 - val_accuracy: 0.5000\n",
      "Epoch 5/10\n",
      "30/30 [==============================] - 5s 153ms/step - loss: 0.4997 - accuracy: 0.5000 - val_loss: 0.4997 - val_accuracy: 0.5000\n",
      "Epoch 6/10\n",
      "30/30 [==============================] - 5s 152ms/step - loss: 0.4997 - accuracy: 0.5000 - val_loss: 0.4997 - val_accuracy: 0.5000\n",
      "Epoch 7/10\n",
      "30/30 [==============================] - 5s 154ms/step - loss: 0.4997 - accuracy: 0.5000 - val_loss: 0.4997 - val_accuracy: 0.5000\n",
      "Epoch 8/10\n",
      "30/30 [==============================] - 5s 158ms/step - loss: 0.4997 - accuracy: 0.5000 - val_loss: 0.4997 - val_accuracy: 0.5000\n",
      "Epoch 9/10\n",
      "30/30 [==============================] - 4s 150ms/step - loss: 0.4997 - accuracy: 0.5000 - val_loss: 0.4997 - val_accuracy: 0.5000\n",
      "Epoch 10/10\n",
      "30/30 [==============================] - 5s 154ms/step - loss: 0.4997 - accuracy: 0.5000 - val_loss: 0.4997 - val_accuracy: 0.5000\n"
     ]
    }
   ],
   "source": [
    "#Viktor's notebook\n",
    "def initialize_base_network():\n",
    "    input = Input(shape=(224,224,3))\n",
    "    x = Flatten()(input)\n",
    "    x = Dense(128, activation='relu')(x)\n",
    "    x = Dense(128, activation='relu')(x)\n",
    "    return Model(inputs=input, outputs=x)\n",
    "\n",
    "base_network = initialize_base_network()\n",
    "\n",
    "# create the left input and point to the base network\n",
    "input_a = Input(shape=(224,224,3), name=\"left_input\")\n",
    "vect_output_a = base_network(input_a)\n",
    "\n",
    "# create the right input and point to the base network\n",
    "input_b = Input(shape=(224,224,3), name=\"right_input\")\n",
    "vect_output_b = base_network(input_b)\n",
    "\n",
    "# measure the similarity of the two vector outputs\n",
    "output = Lambda(euclidean_distance, name=\"output_layer\")([vect_output_a, vect_output_b])\n",
    "# specify the inputs and output of the model\n",
    "model_2 = Model([input_a, input_b], output)\n",
    "\n",
    "model_2.compile(loss=contrastive_loss, optimizer='adam', metrics=[\"accuracy\"])\n",
    "history_2 = model_2.fit([pairTrain[:, 0], pairTrain[:, 1]], labelTrain[:],verbose=1, validation_data=([pairValid[:, 0], pairValid[:, 1]], labelValid[:]), epochs=10)"
   ]
  },
  {
   "cell_type": "code",
   "execution_count": 83,
   "metadata": {},
   "outputs": [],
   "source": [
    "def plot_training(H):\n",
    "\t# construct a plot that plots and saves the training history\n",
    "\tplt.style.use(\"ggplot\")\n",
    "\tplt.figure()\n",
    "\n",
    "\tplt.plot(H.history[\"accuracy\"], label=\"train_acc\")\n",
    "\tplt.plot(H.history[\"val_accuracy\"], label=\"val_acc\")\n",
    "\tplt.title(\"Training Accuracy\")\n",
    "\tplt.xlabel(\"Epoch #\")\n",
    "\tplt.ylabel(\"Accuracy\")\n",
    "\tplt.legend()\n",
    "\tplt.show()\n",
    "\n",
    "\n",
    "\tplt.plot(H.history[\"loss\"], label=\"train_loss\")\n",
    "\tplt.plot(H.history[\"val_loss\"], label=\"val_loss\")\n",
    "\tplt.title(\"Training Loss\")\n",
    "\tplt.xlabel(\"Epoch #\")\n",
    "\tplt.ylabel(\"Loss\")\n",
    "\tplt.legend()\n",
    "\tplt.show()"
   ]
  },
  {
   "cell_type": "code",
   "execution_count": 84,
   "metadata": {},
   "outputs": [
    {
     "data": {
      "image/png": "[encoded data removed]",
      "text/plain": [
       "<Figure size 432x288 with 1 Axes>"
      ]
     },
     "metadata": {},
     "output_type": "display_data"
    },
    {
     "data": {
      "image/png": "[encoded data removed]",
      "text/plain": [
       "<Figure size 432x288 with 1 Axes>"
      ]
     },
     "metadata": {},
     "output_type": "display_data"
    }
   ],
   "source": [
    "plot_training(history)"
   ]
  },
  {
   "cell_type": "code",
   "execution_count": 85,
   "metadata": {},
   "outputs": [
    {
     "data": {
      "image/png": "[encoded data removed]",
      "text/plain": [
       "<Figure size 432x288 with 1 Axes>"
      ]
     },
     "metadata": {},
     "output_type": "display_data"
    },
    {
     "data": {
      "image/png": "[encoded data removed]",
      "text/plain": [
       "<Figure size 432x288 with 1 Axes>"
      ]
     },
     "metadata": {},
     "output_type": "display_data"
    }
   ],
   "source": [
    "plot_training(history_2)"
   ]
  },
  {
   "attachments": {},
   "cell_type": "markdown",
   "metadata": {},
   "source": [
    "_TBD_"
   ]
  },
  {
   "attachments": {},
   "cell_type": "markdown",
   "metadata": {},
   "source": [
    "<h1><b>TRIPLET LOSS MODEL<b><h1>"
   ]
  },
  {
   "cell_type": "code",
   "execution_count": null,
   "metadata": {},
   "outputs": [],
   "source": []
  }
 ],
 "metadata": {
  "kernelspec": {
   "display_name": "VSE_ML",
   "language": "python",
   "name": "python3"
  },
  "language_info": {
   "codemirror_mode": {
    "name": "ipython",
    "version": 3
   },
   "file_extension": ".py",
   "mimetype": "text/x-python",
   "name": "python",
   "nbconvert_exporter": "python",
   "pygments_lexer": "ipython3",
   "version": "3.9.13"
  },
  "orig_nbformat": 4,
  "vscode": {
   "interpreter": {
    "hash": "cf7e70c757e4f60095653c44545a762e49c6e5d3353dc968e17e829e1045004e"
   }
  }
 },
 "nbformat": 4,
 "nbformat_minor": 2
}
